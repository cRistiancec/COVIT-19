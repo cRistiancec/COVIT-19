{
 "cells": [
  {
   "cell_type": "markdown",
   "metadata": {},
   "source": [
    "# COVIT Analisis"
   ]
  },
  {
   "cell_type": "markdown",
   "metadata": {},
   "source": [
    "## Descarga de datos"
   ]
  },
  {
   "cell_type": "code",
   "execution_count": 322,
   "metadata": {
    "scrolled": true
   },
   "outputs": [
    {
     "name": "stdout",
     "output_type": "stream",
     "text": [
      "https://www.ecdc.europa.eu/sites/default/files/documents/COVID-19-geographic-disbtribution-worldwide-2020-03-19.xlsx\n"
     ]
    },
    {
     "data": {
      "text/plain": [
       "('COVIT-19-2020319.xls', <http.client.HTTPMessage at 0x2d1aeefdec8>)"
      ]
     },
     "execution_count": 322,
     "metadata": {},
     "output_type": "execute_result"
    }
   ],
   "source": [
    "import urllib\n",
    "import datetime\n",
    "dt = datetime.datetime.today()\n",
    "year = dt.strftime('%Y')\n",
    "month = dt.strftime('%m')\n",
    "day = dt.strftime('%d')\n",
    "outfilename = f'COVIT-19-{dt.year}{dt.month}{dt.day}.xls'\n",
    "url_of_file = f'https://www.ecdc.europa.eu/sites/default/files/documents/COVID-19-geographic-disbtribution-worldwide-{year}-{month}-{day}.xlsx'\n",
    "print(url_of_file)\n",
    "urllib.request.urlretrieve(url_of_file, outfilename)"
   ]
  },
  {
   "cell_type": "markdown",
   "metadata": {},
   "source": [
    "## Procesamiento de datos"
   ]
  },
  {
   "cell_type": "code",
   "execution_count": null,
   "metadata": {
    "scrolled": false
   },
   "outputs": [],
   "source": [
    "import pandas as pd \n",
    "import matplotlib.pyplot as plt\n",
    "import numpy as np\n",
    "\n",
    "# Data\n",
    "dt = datetime.datetime.today()\n",
    "file = f'COVIT-19-{dt.year}{dt.month}{dt.day}.xls'\n",
    "df = pd.read_excel(file)\n",
    "data = pd.DataFrame(df, columns= ['DateRep', 'Day','Month', 'Year', 'Cases', 'Deaths', 'Countries and territories'])\n",
    "data = data.rename(columns={\"DateRep\": \"Date\", \"Countries and territories\": \"Country\"})\n",
    "data = data[data['Cases'] > 0]\n",
    "data['Period'] = data['Month']*100+data['Day']\n",
    "data = data.sort_values(['Country', 'Date'], ascending=[True, True])\n",
    "data['an'] = data.groupby(['Country']).cumcount()\n",
    "data['id'] = data.groupby(['Country']).cumcount() + 1\n",
    "\n",
    "data = data.merge(data, left_on='id', right_on='an', suffixes=('', '_r'))\n",
    "\n",
    "print(data)\n",
    "\n",
    "# data['a'] = pd.concat([data,data]).groupby(level=0).sum()\n",
    "# data['a'] = pd.merge(data, data, left_on=\"an\", right_on=\"id\")\n",
    "\n",
    "mexico = data[(data['Country'] == 'Mexico')]\n",
    "spain = data[(data['Country'] == 'Spain')]\n",
    "eu = data[(data['Country'] == 'United_States_of_America')]\n",
    "italy = data[(data['Country'] == 'Italy')]\n",
    "\n",
    "dataCompare = pd.concat([mexico, spain, italy], axis=0)\n",
    "dataCompare.plot(x ='Country', y='Cases', kind = 'bar')\n",
    "\n",
    "data.head(20)\n",
    "\n",
    "# Graphics\n",
    "ax = plt.gca()\n",
    "\n",
    "mexico.plot(kind='line',x='Period',y='Cases', color='green', ax=ax)\n",
    "spain.plot(kind='line',x='Period',y='Cases', color='red', ax=ax)\n",
    "italy.plot(kind='line',x='Period',y='Cases', color='blue', ax=ax)\n",
    "eu.plot(kind='line',x='Period',y='Cases', color='orange', ax=ax)\n",
    "\n",
    "plt.show()\n",
    "dataCompare.head(20)\n",
    "# print(mexico)\n",
    "# print(spain)\n",
    "# print(italy)"
   ]
  },
  {
   "cell_type": "code",
   "execution_count": null,
   "metadata": {},
   "outputs": [],
   "source": []
  }
 ],
 "metadata": {
  "kernelspec": {
   "display_name": "Python 3",
   "language": "python",
   "name": "python3"
  },
  "language_info": {
   "codemirror_mode": {
    "name": "ipython",
    "version": 3
   },
   "file_extension": ".py",
   "mimetype": "text/x-python",
   "name": "python",
   "nbconvert_exporter": "python",
   "pygments_lexer": "ipython3",
   "version": "3.7.4"
  }
 },
 "nbformat": 4,
 "nbformat_minor": 2
}
